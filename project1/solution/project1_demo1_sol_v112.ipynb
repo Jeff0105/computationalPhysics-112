{
 "cells": [
  {
   "cell_type": "markdown",
   "metadata": {},
   "source": [
    "# Demo1: Simple Harmonic Oscillator\n",
    "\n",
    "In this jupyter notebook, we will learn how to use the Euler's method to solve for the motions of a simple harmonic oscillaotr.\n",
    "\n",
    "&copy; Kuo-Chuan Pan, 2024\\\n",
    "For the course \"Computational Physics\" at NTHU\n",
    "\n",
    "### Governing equations\n",
    "\n",
    "The governing equations are \n",
    "$$\n",
    "a^{t^n} = - \\omega_0^2 x^{t^n},\n",
    "$$\n",
    "\n",
    "$$\n",
    "x^{t^{n+1}} = x^{t^n} + v^{t^n} \\times \\Delta t,\n",
    "$$\n",
    "and \n",
    "$$\n",
    "v^{t^{n+1}} = v^{t^n} + a^{t^n} \\times \\Delta t.\n",
    "$$\n",
    "\n",
    "### Initial Conditions\n",
    "\n",
    "At time $t=0$, position $x=1$ and velocity $v=0$.\\\n",
    "Set $A=k=m=1$, and $\\omega_0=\\sqrt{k/m}=1$ as well.\n",
    "\n",
    "## Exercie 1: \n",
    "Use a small time step $\\Delta t=0.01$ and solve for the solution at $t=20$."
   ]
  },
  {
   "cell_type": "code",
   "execution_count": null,
   "metadata": {},
   "outputs": [],
   "source": [
    "# import required libraries\n",
    "import numpy as np\n",
    "import matplotlib.pyplot as plt"
   ]
  },
  {
   "cell_type": "code",
   "execution_count": null,
   "metadata": {},
   "outputs": [],
   "source": [
    "#\n",
    "# This is a simple example of how to solve a simple harmonic oscillator using the Euler method\n",
    "#\n",
    "\n",
    "A=1\n",
    "k=1\n",
    "m=1\n",
    "omega0 = np.sqrt(k/m)\n",
    "dt = 0.01\n",
    "\n",
    "def solve_shm_euler(y, dt=0.01, tmax=20, A=1, k=1, m=1):\n",
    "    omega0 = np.sqrt(k/m)\n",
    "    times = np.linspace(0,tmax,int(tmax/dt)+1,endpoint=True)\n",
    "    positions = np.zeros(len(times))\n",
    "    velocities = np.zeros(len(times))    \n",
    "\n",
    "    # set the initial conditions\n",
    "    positions[0] = y[0]\n",
    "    velocities[0] = y[1]\n",
    "\n",
    "    # solve the difference equation using the Euler method\n",
    "    for n in np.arange(1, len(times)):\n",
    "        \n",
    "        def f(y):\n",
    "            return np.array([y[1], -omega0**2 * y[0]])\n",
    "        y = y + dt*f(y) # Euler method\n",
    "\n",
    "        # store the solution\n",
    "        positions[n] = y[0]\n",
    "        velocities[n] = y[1]\n",
    "\n",
    "    return times, positions, velocities\n",
    "\n",
    "\n"
   ]
  },
  {
   "cell_type": "code",
   "execution_count": null,
   "metadata": {},
   "outputs": [],
   "source": [
    "y = np.array([1, 0])\n",
    "time, posx, velx = solve_shm_euler(y, dt=0.01, tmax=20, A=1, k=1, m=1)"
   ]
  },
  {
   "cell_type": "code",
   "execution_count": null,
   "metadata": {},
   "outputs": [],
   "source": [
    "# Step 5: plot the solution\n",
    "\n",
    "#TODO\n",
    "plt.figure()\n",
    "plt.plot(time, posx, label='position')\n",
    "plt.plot(time, velx, label='velocity')\n",
    "plt.xlabel('time')\n",
    "plt.ylabel('position, velocity')\n",
    "plt.title('Simple Harmonic Oscillator')\n",
    "plt.legend()\n",
    "\n",
    "\n",
    "\n",
    "\n"
   ]
  },
  {
   "cell_type": "markdown",
   "metadata": {},
   "source": [
    "We could verify our numerical solution be comparing it with the analytical solutions.\n",
    "The analytical solutions are:\n",
    "\n",
    "$$\n",
    "x = A \\cos(\\omega_0 t + \\phi),\n",
    "$$\n",
    "and\n",
    "\n",
    "$$\n",
    "v = -A \\omega_0 \\sin(\\omega_0 t + \\delta)."
   ]
  },
  {
   "cell_type": "code",
   "execution_count": null,
   "metadata": {},
   "outputs": [],
   "source": [
    "# Step 6: evaluate the analytical solution and plot it\n",
    "omega0 = np.sqrt(1/1)\n",
    "posx_ana =  np.cos(omega0*time)\n",
    "velx_ana = -np.sin(omega0*time)\n",
    "\n",
    "plt.figure(2)\n",
    "plt.plot(time, posx,'r--', label='position')\n",
    "plt.plot(time, velx,'b--', label='velocity')\n",
    "plt.plot(time, posx_ana,'r-', label='position (ana.)')\n",
    "plt.plot(time, velx_ana,'b-', label='velocity (ana.)')\n",
    "plt.xlabel('time')\n",
    "plt.ylabel('position, velocity')\n",
    "plt.title('Simple Harmonic Oscillator')\n",
    "plt.legend()\n",
    "\n"
   ]
  },
  {
   "cell_type": "markdown",
   "metadata": {},
   "source": [
    "Another way to chekc the accuray of our numerical solution is to check the energy conservation and the phase-sapce diagram."
   ]
  },
  {
   "cell_type": "code",
   "execution_count": null,
   "metadata": {},
   "outputs": [],
   "source": [
    "# Step 7: evaluate the energy (error) of the system\n",
    "\n",
    "# TODO \n",
    "etot = 0.5 * (posx**2 + velx**2)\n",
    "plt.figure(3)\n",
    "plt.plot(time, etot)\n",
    "plt.xlabel('time')\n",
    "plt.ylabel('energy')\n",
    "plt.title('Simple Harmonic Oscillator')\n",
    "plt.legend()\n",
    "\n",
    "\n",
    "\n",
    "\n"
   ]
  },
  {
   "cell_type": "code",
   "execution_count": null,
   "metadata": {},
   "outputs": [],
   "source": [
    "# Step 8: evaluate the phase space\n",
    "\n",
    "# TODO\n",
    "plt.figure(4)\n",
    "plt.plot(posx, velx)\n",
    "\n",
    "\n",
    "\n",
    "\n",
    "\n",
    "\n",
    "\n",
    "\n"
   ]
  },
  {
   "cell_type": "markdown",
   "metadata": {},
   "source": [
    "## Exercise 2: \n",
    "Check if the accuracy can be improved by reducing the time step to $\\Delta t=0.001$."
   ]
  },
  {
   "cell_type": "code",
   "execution_count": null,
   "metadata": {},
   "outputs": [],
   "source": [
    "y = np.array([1, 0])\n",
    "time2, posx2, velx2 = solve_shm_euler(y, dt=0.001, tmax=20, A=1, k=1, m=1)\n"
   ]
  },
  {
   "cell_type": "code",
   "execution_count": null,
   "metadata": {},
   "outputs": [],
   "source": [
    "plt.figure(5)\n",
    "plt.plot(time2, posx2, label='position')\n",
    "plt.plot(time, posx_ana, label='velocity')"
   ]
  },
  {
   "cell_type": "markdown",
   "metadata": {},
   "source": [
    "### Note\n",
    "\n",
    "Reducing the time step is not the best solution. The better solution is to use higher-order schemes. Do NOT use Eulter's method in any production runs. "
   ]
  },
  {
   "cell_type": "code",
   "execution_count": null,
   "metadata": {},
   "outputs": [],
   "source": []
  }
 ],
 "metadata": {
  "kernelspec": {
   "display_name": "comphys-112",
   "language": "python",
   "name": "python3"
  },
  "language_info": {
   "codemirror_mode": {
    "name": "ipython",
    "version": 3
   },
   "file_extension": ".py",
   "mimetype": "text/x-python",
   "name": "python",
   "nbconvert_exporter": "python",
   "pygments_lexer": "ipython3",
   "version": "3.11.7"
  }
 },
 "nbformat": 4,
 "nbformat_minor": 2
}
